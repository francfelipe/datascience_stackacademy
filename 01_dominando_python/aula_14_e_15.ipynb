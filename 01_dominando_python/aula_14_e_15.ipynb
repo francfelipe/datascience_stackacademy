{
 "cells": [
  {
   "cell_type": "markdown",
   "metadata": {},
   "source": [
    "# Trabalhando com Loops"
   ]
  },
  {
   "cell_type": "code",
   "execution_count": null,
   "metadata": {},
   "outputs": [],
   "source": [
    "# Os loops são usados no Python na seguinte forma (sintaxe):\n",
    "for i in coleção:\n",
    "    <execute uma ou mais ações>\n",
    "    \n",
    "# A coleção pode ser uma lista de números\n",
    "# Ou ainda uma lista de Strings, ou um arquivo, uma tupla, um dicionário e assim por diante."
   ]
  },
  {
   "cell_type": "code",
   "execution_count": 1,
   "metadata": {},
   "outputs": [
    {
     "name": "stdout",
     "output_type": "stream",
     "text": [
      "Valor: 1\n",
      "3\n",
      "Valor: 2\n",
      "4\n",
      "Valor: 3\n",
      "5\n",
      "Valor: 4\n",
      "6\n",
      "Valor: 5\n",
      "7\n"
     ]
    }
   ],
   "source": [
    "# Exemplo de loop com lista\n",
    "for i in [1,2,3,4,5]:\n",
    "    print (\"Valor: %s\" %i)\n",
    "    print (i + 2)"
   ]
  },
  {
   "cell_type": "code",
   "execution_count": 2,
   "metadata": {},
   "outputs": [
    {
     "name": "stdout",
     "output_type": "stream",
     "text": [
      "M\n",
      "i\n",
      "n\n",
      "e\n",
      "r\n",
      "a\n",
      "n\n",
      "d\n",
      "o\n",
      " \n",
      "D\n",
      "a\n",
      "d\n",
      "o\n",
      "s\n",
      ",\n",
      " \n",
      "a\n",
      " \n",
      "c\n",
      "a\n",
      "s\n",
      "a\n",
      " \n",
      "d\n",
      "o\n",
      " \n",
      "C\n",
      "i\n",
      "e\n",
      "n\n",
      "t\n",
      "i\n",
      "s\n",
      "t\n",
      "a\n",
      " \n",
      "d\n",
      "e\n",
      " \n",
      "D\n",
      "a\n",
      "d\n",
      "o\n",
      "s\n"
     ]
    }
   ],
   "source": [
    "# Exemplo de loop com uma String\n",
    "for caracter in 'Minerando Dados, a casa do Cientista de Dados':\n",
    "    print (caracter)"
   ]
  },
  {
   "cell_type": "code",
   "execution_count": 3,
   "metadata": {},
   "outputs": [
    {
     "name": "stdout",
     "output_type": "stream",
     "text": [
      "Ferrari\n",
      "Porshe\n",
      "lamborghini\n"
     ]
    }
   ],
   "source": [
    "# Exemplo de loop com uma lista de strings\n",
    "automoveis = ['Ferrari','Porshe','lamborghini']\n",
    "for carro in automoveis:\n",
    "    print (carro)"
   ]
  },
  {
   "cell_type": "code",
   "execution_count": 5,
   "metadata": {},
   "outputs": [
    {
     "name": "stdout",
     "output_type": "stream",
     "text": [
      "F\n",
      "e\n",
      "r\n",
      "r\n",
      "a\n",
      "r\n",
      "i\n"
     ]
    }
   ],
   "source": [
    "for i in automoveis[0]:\n",
    "    print(i)"
   ]
  },
  {
   "cell_type": "code",
   "execution_count": 6,
   "metadata": {},
   "outputs": [
    {
     "name": "stdout",
     "output_type": "stream",
     "text": [
      "Rodrigo\n",
      "Maria\n",
      "Jose\n"
     ]
    }
   ],
   "source": [
    "# Loops com Dicionários\n",
    "pessoas_idade = {'Rodrigo':30, 'Maria':25, 'Jose':65}\n",
    "for p in pessoas_idade:\n",
    "    print (p)"
   ]
  },
  {
   "cell_type": "code",
   "execution_count": 8,
   "metadata": {},
   "outputs": [
    {
     "name": "stdout",
     "output_type": "stream",
     "text": [
      "30\n",
      "25\n",
      "65\n"
     ]
    }
   ],
   "source": [
    "# Loops com Dicionários\n",
    "pessoas_idade = {'Rodrigo':30, 'Maria':25, 'Jose':65}\n",
    "for p in pessoas_idade.values():\n",
    "    print (p)"
   ]
  },
  {
   "cell_type": "code",
   "execution_count": 9,
   "metadata": {},
   "outputs": [
    {
     "name": "stdout",
     "output_type": "stream",
     "text": [
      "1\n",
      "3\n",
      "5\n",
      "7\n",
      "9\n"
     ]
    }
   ],
   "source": [
    "# Loops com estruturas condicionais\n",
    "# Imprimindo apenas números impares\n",
    "for i in [1,2,3,4,5,6,7,8,9,10]:\n",
    "    if i % 2 > 0:\n",
    "        print (i)"
   ]
  },
  {
   "cell_type": "code",
   "execution_count": 10,
   "metadata": {},
   "outputs": [
    {
     "name": "stdout",
     "output_type": "stream",
     "text": [
      "10 Ola mundo\n",
      "15 Python é uma linguagem sensacional\n",
      "20 Minerando Dados a sua comunidade de Data Science\n"
     ]
    }
   ],
   "source": [
    "# Usando a função zip para concatenar listas\n",
    "indice = [10,15,20]\n",
    "linhas = ['Ola mundo','Python é uma linguagem sensacional','Minerando Dados a sua comunidade de Data Science']\n",
    "for i,l in zip(indice,linhas):\n",
    "    print (i,l)"
   ]
  },
  {
   "cell_type": "markdown",
   "metadata": {},
   "source": [
    "# Loops Aninhados"
   ]
  },
  {
   "cell_type": "code",
   "execution_count": 11,
   "metadata": {},
   "outputs": [
    {
     "name": "stdout",
     "output_type": "stream",
     "text": [
      "1a Fase\n",
      "Maça\n",
      "Bananas\n",
      "Uvas\n",
      "2a Fase\n",
      "Maça\n",
      "Bananas\n",
      "Uvas\n",
      "3a Fase\n",
      "Maça\n",
      "Bananas\n",
      "Uvas\n"
     ]
    }
   ],
   "source": [
    "# A cada execução do Primeiro loop, todo o segundo loop será executado\n",
    "for i in ['1a Fase','2a Fase','3a Fase']:\n",
    "    print (i)\n",
    "    for y in ['Maça','Bananas','Uvas']:\n",
    "        print (y)"
   ]
  },
  {
   "cell_type": "markdown",
   "metadata": {},
   "source": [
    "# Instrução Break"
   ]
  },
  {
   "cell_type": "code",
   "execution_count": 12,
   "metadata": {},
   "outputs": [
    {
     "name": "stdout",
     "output_type": "stream",
     "text": [
      "Letra : P\n",
      "Letra : y\n",
      "Letra : t\n",
      "Letra : h\n",
      "\n",
      "\n",
      "Continuando o programa...\n"
     ]
    }
   ],
   "source": [
    "# A instrução break é usada para encerrar um loop\n",
    "for letra in 'Python':\n",
    "   if letra == 'o':\n",
    "    ##faça_algo\n",
    "      break #loop interrompido!!\n",
    "   print ('Letra :', letra)\n",
    "\n",
    "print (\"\\n\\nContinuando o programa...\")"
   ]
  },
  {
   "cell_type": "markdown",
   "metadata": {},
   "source": [
    "# Instrução Continue"
   ]
  },
  {
   "cell_type": "code",
   "execution_count": 13,
   "metadata": {},
   "outputs": [
    {
     "name": "stdout",
     "output_type": "stream",
     "text": [
      "Letra : P\n",
      "Letra : t\n",
      "Letra : h\n",
      "Letra : o\n",
      "Letra : n\n"
     ]
    }
   ],
   "source": [
    "# A instrução continue checa a condição inicial do loop e continua sua execução\n",
    "for letra in 'Python':\n",
    "   if letra == 'y':\n",
    "      continue\n",
    "   print ('Letra :', letra)"
   ]
  },
  {
   "cell_type": "code",
   "execution_count": null,
   "metadata": {},
   "outputs": [],
   "source": []
  }
 ],
 "metadata": {
  "kernelspec": {
   "display_name": "Python 3",
   "language": "python",
   "name": "python3"
  },
  "language_info": {
   "codemirror_mode": {
    "name": "ipython",
    "version": 3
   },
   "file_extension": ".py",
   "mimetype": "text/x-python",
   "name": "python",
   "nbconvert_exporter": "python",
   "pygments_lexer": "ipython3",
   "version": "3.12.1"
  }
 },
 "nbformat": 4,
 "nbformat_minor": 2
}
