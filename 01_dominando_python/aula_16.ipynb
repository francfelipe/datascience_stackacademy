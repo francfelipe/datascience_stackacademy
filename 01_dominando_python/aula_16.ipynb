{
 "cells": [
  {
   "cell_type": "markdown",
   "metadata": {},
   "source": [
    "# Trabalhando com Loops While"
   ]
  },
  {
   "cell_type": "code",
   "execution_count": null,
   "metadata": {},
   "outputs": [],
   "source": [
    "# Os loops While utilizam a seguinte sintaxe\n",
    "# Perceba que a condição é o primeiro passo a ser executado\n",
    "# Se a condição for verdadeira executa o loop até esta ser falsa\n",
    "\n",
    "while condicao:\n",
    "    <faca algo>"
   ]
  },
  {
   "cell_type": "code",
   "execution_count": 1,
   "metadata": {},
   "outputs": [
    {
     "name": "stdout",
     "output_type": "stream",
     "text": [
      "0\n",
      "1\n",
      "2\n",
      "3\n",
      "4\n",
      "5\n",
      "6\n",
      "7\n",
      "8\n",
      "9\n",
      "\n",
      "\n",
      " Continuando o programa...\n"
     ]
    }
   ],
   "source": [
    "# Exemplo de utilização do loop While\n",
    "i = 0\n",
    "while i < 10:\n",
    "    print (i)\n",
    "    i = i + 1\n",
    "\n",
    "print (\"\\n\\n Continuando o programa...\")"
   ]
  },
  {
   "cell_type": "code",
   "execution_count": 3,
   "metadata": {},
   "outputs": [
    {
     "name": "stdout",
     "output_type": "stream",
     "text": [
      "5\n",
      "6\n",
      "7\n",
      "8\n",
      "9\n",
      "10\n",
      "\n",
      "\n",
      " Continuando o programa...\n"
     ]
    }
   ],
   "source": [
    "# Condição inicial é falsa!!\n",
    "i = 5\n",
    "while i <= 10:\n",
    "    print (i)\n",
    "    i = i + 1\n",
    "\n",
    "print (\"\\n\\n Continuando o programa...\")"
   ]
  },
  {
   "cell_type": "markdown",
   "metadata": {},
   "source": [
    "# While com a instrução ELSE"
   ]
  },
  {
   "cell_type": "code",
   "execution_count": 4,
   "metadata": {},
   "outputs": [
    {
     "name": "stdout",
     "output_type": "stream",
     "text": [
      "0\n",
      "1\n",
      "2\n",
      "3\n",
      "4\n",
      "5\n",
      "6\n",
      "7\n",
      "8\n",
      "9\n",
      "Numero é maior ou igual a 10\n",
      "\n",
      "\n",
      " Continuando o programa...\n"
     ]
    }
   ],
   "source": [
    "# A instrução ELSE é executada quando a condição do while é falsa\n",
    "i = 0\n",
    "while i < 10:\n",
    "    print (i)\n",
    "    i = i + 1\n",
    "else:\n",
    "    print(\"Numero é maior ou igual a 10\")\n",
    "\n",
    "print (\"\\n\\n Continuando o programa...\")"
   ]
  },
  {
   "cell_type": "markdown",
   "metadata": {},
   "source": [
    "# While, Break,Continue"
   ]
  },
  {
   "cell_type": "code",
   "execution_count": 5,
   "metadata": {},
   "outputs": [
    {
     "name": "stdout",
     "output_type": "stream",
     "text": [
      "0\n",
      "1\n",
      "2\n",
      "3\n",
      "4\n",
      "\n",
      "\n",
      " Continuando o programa...\n"
     ]
    }
   ],
   "source": [
    "# While com a instrução Break\n",
    "i = 0\n",
    "while i < 10:\n",
    "    if i == 5:\n",
    "        break\n",
    "    print (i)\n",
    "    i = i + 1\n",
    "\n",
    "print (\"\\n\\n Continuando o programa...\")"
   ]
  },
  {
   "cell_type": "markdown",
   "metadata": {},
   "source": [
    "# Loops Infinitos!!"
   ]
  },
  {
   "cell_type": "code",
   "execution_count": null,
   "metadata": {},
   "outputs": [],
   "source": [
    "# Cuidado!!\n",
    "# Loops Infinitos: Condição é sempre verdadeira!\n",
    "i = 0\n",
    "while i < 10:\n",
    "    print (i)"
   ]
  }
 ],
 "metadata": {
  "kernelspec": {
   "display_name": "Python 3",
   "language": "python",
   "name": "python3"
  },
  "language_info": {
   "codemirror_mode": {
    "name": "ipython",
    "version": 3
   },
   "file_extension": ".py",
   "mimetype": "text/x-python",
   "name": "python",
   "nbconvert_exporter": "python",
   "pygments_lexer": "ipython3",
   "version": "3.12.1"
  }
 },
 "nbformat": 4,
 "nbformat_minor": 2
}
